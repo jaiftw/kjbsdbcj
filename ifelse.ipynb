{
 "cells": [
  {
   "cell_type": "code",
   "execution_count": null,
   "metadata": {},
   "outputs": [],
   "source": [
    "# Python If ... Else\n",
    "# Python Conditions and If statements\n",
    "# Python supports the usual logical conditions from mathematics:\n",
    "\n",
    "# Equals: a == b\n",
    "# Not Equals: a != b\n",
    "# Less than: a < b\n",
    "# Less than or equal to: a <= b\n",
    "# Greater than: a > b\n",
    "# Greater than or equal to: a >= b\n",
    "# These conditions can be used in several ways, most commonly in \"if statements\" and loops.\n",
    "\n",
    "# An \"if statement\" is written by using the if keyword."
   ]
  },
  {
   "cell_type": "code",
   "execution_count": 1,
   "metadata": {},
   "outputs": [
    {
     "name": "stdout",
     "output_type": "stream",
     "text": [
      "b is greater than a\n"
     ]
    }
   ],
   "source": [
    "a = 33\n",
    "b = 200\n",
    "if b > a:\n",
    "  print(\"b is greater than a\")"
   ]
  },
  {
   "cell_type": "code",
   "execution_count": null,
   "metadata": {},
   "outputs": [],
   "source": [
    "# Indentation\n",
    "# Python relies on indentation (whitespace at the beginning of a line) to define scope in the code. Other programming languages often use curly-brackets for this purpose.\n",
    "\n",
    "# Example\n",
    "# If statement, without indentation (will raise an error):\n",
    "\n",
    "# a = 33\n",
    "# b = 200\n",
    "# if b > a:\n",
    "# print(\"b is greater than a\") # you will get an error"
   ]
  },
  {
   "cell_type": "code",
   "execution_count": null,
   "metadata": {},
   "outputs": [],
   "source": [
    "# Elif\n",
    "# The elif keyword is Python's way of saying \"if the previous conditions were not true, then try this condition\".\n",
    "\n",
    "# Example\n",
    "# a = 33\n",
    "# b = 33\n",
    "# if b > a:\n",
    "#   print(\"b is greater than a\")\n",
    "# elif a == b:\n",
    "#   print(\"a and b are equal\")"
   ]
  },
  {
   "cell_type": "code",
   "execution_count": null,
   "metadata": {},
   "outputs": [],
   "source": [
    "# Else\n",
    "# The else keyword catches anything which isn't caught by the preceding conditions.\n",
    "\n",
    "# Example\n",
    "# a = 200\n",
    "# b = 33\n",
    "# if b > a:\n",
    "#   print(\"b is greater than a\")\n",
    "# elif a == b:\n",
    "#   print(\"a and b are equal\")\n",
    "# else:\n",
    "#   print(\"a is greater than b\")"
   ]
  },
  {
   "cell_type": "code",
   "execution_count": null,
   "metadata": {},
   "outputs": [],
   "source": [
    "# In this example a is greater than b, so the first condition is not true, also the elif condition is not true, so we go to the else condition and print to screen that \"a is greater than b\".\n",
    "\n",
    "# You can also have an else without the elif:\n",
    "\n",
    "# Example\n",
    "# a = 200\n",
    "# b = 33\n",
    "# if b > a:\n",
    "#   print(\"b is greater than a\")\n",
    "# else:\n",
    "# #   print(\"b is not greater than a\")"
   ]
  },
  {
   "cell_type": "code",
   "execution_count": null,
   "metadata": {},
   "outputs": [],
   "source": [
    "# Short Hand If\n",
    "# If you have only one statement to execute, you can put it on the same line as the if statement.\n",
    "\n",
    "# Example\n",
    "# One line if statement:\n",
    "\n",
    "# if a > b: print(\"a is greater than b\")"
   ]
  },
  {
   "cell_type": "code",
   "execution_count": null,
   "metadata": {},
   "outputs": [],
   "source": [
    "# Short Hand If ... Else\n",
    "# If you have only one statement to execute, one for if, and one for else, you can put it all on the same line:\n",
    "\n",
    "# Example\n",
    "# One line if else statement:\n",
    "\n",
    "# a = 2\n",
    "# b = 330\n",
    "# # print(\"A\") if a > b else print(\"B\")"
   ]
  },
  {
   "cell_type": "code",
   "execution_count": null,
   "metadata": {},
   "outputs": [],
   "source": [
    "# You can also have multiple else statements on the same line:\n",
    "\n",
    "# Example\n",
    "# One line if else statement, with 3 conditions:\n",
    "\n",
    "# a = 330\n",
    "# b = 330\n",
    "# print(\"A\") if a > b else print(\"=\") if a == b else print(\"B\")"
   ]
  },
  {
   "cell_type": "code",
   "execution_count": null,
   "metadata": {},
   "outputs": [],
   "source": [
    "# And\n",
    "# The and keyword is a logical operator, and is used to combine conditional statements:\n",
    "\n",
    "# Example\n",
    "# Test if a is greater than b, AND if c is greater than a:\n",
    "\n",
    "# a = 200\n",
    "# b = 33\n",
    "# c = 500\n",
    "# if a > b and c > a:\n",
    "#   print(\"Both conditions are True\")\n",
    "# Or\n",
    "# The or keyword is a logical operator, and is used to combine conditional statements:\n",
    "\n",
    "# Example\n",
    "# Test if a is greater than b, OR if a is greater than c:\n",
    "\n",
    "# a = 200\n",
    "# b = 33\n",
    "# c = 500\n",
    "# if a > b or a > c:\n",
    "#   print(\"At least one of the conditions is True\")\n",
    "# Not\n",
    "# The not keyword is a logical operator, and is used to reverse the result of the conditional statement:\n",
    "\n",
    "# Example\n",
    "# Test if a is NOT greater than b:\n",
    "\n",
    "# a = 33\n",
    "# b = 200\n",
    "# if not a > b:\n",
    "#   print(\"a is NOT greater than b\")"
   ]
  },
  {
   "cell_type": "code",
   "execution_count": null,
   "metadata": {},
   "outputs": [],
   "source": [
    "# Nested If\n",
    "# You can have if statements inside if statements, this is called nested if statements.\n",
    "\n",
    "# Example\n",
    "# x = 41\n",
    "\n",
    "# if x > 10:\n",
    "#   print(\"Above ten,\")\n",
    "#   if x > 20:\n",
    "#     print(\"and also above 20!\")\n",
    "#   else:\n",
    "#     print(\"but not above 20.\")"
   ]
  },
  {
   "cell_type": "code",
   "execution_count": null,
   "metadata": {},
   "outputs": [],
   "source": [
    "# The pass Statement\n",
    "# if statements cannot be empty, but if you for some reason have an if statement with no content, put in the pass statement to avoid getting an error.\n",
    "\n",
    "# Example\n",
    "# a = 33\n",
    "# b = 200\n",
    "\n",
    "# if b > a:\n",
    "#   pass"
   ]
  },
  {
   "cell_type": "code",
   "execution_count": null,
   "metadata": {},
   "outputs": [],
   "source": [
    "# x = int(input(\"Enter number:\"))\n",
    "# y = int(input(\"enter number:\"))\n",
    "# if x!=y:\n",
    "#     print(\"condition is true\")\n",
    "# else:\n",
    "#     print(\"condition is not true\")"
   ]
  },
  {
   "cell_type": "code",
   "execution_count": 1,
   "metadata": {},
   "outputs": [
    {
     "name": "stdout",
     "output_type": "stream",
     "text": [
      "condition is not true\n"
     ]
    }
   ],
   "source": [
    "# x = input(\"Enter alphabet:\")\n",
    "# y = input(\"enter alphabet:\")\n",
    "# if x!=y:\n",
    "#     print(\"condition is true\")\n",
    "# else:\n",
    "#     print(\"condition is not true\")"
   ]
  },
  {
   "cell_type": "code",
   "execution_count": null,
   "metadata": {},
   "outputs": [],
   "source": [
    "# prime number check\n",
    "# x = int(input(\"Enter number:\"))\n",
    "# if x%x==0:\n",
    "#     print(\"x is prime number\")\n",
    "# else:\n",
    "#     print(\"x is not prime number\")"
   ]
  },
  {
   "cell_type": "code",
   "execution_count": null,
   "metadata": {},
   "outputs": [],
   "source": [
    "# x = input(\"enter alphabet:\")\n",
    "# if x=='a' or x=='e' or x=='i' or x=='o' or x=='u':\n",
    "#     print(\"x is vowel\")\n",
    "# else:\n",
    "#     print(\"alphabet is consonent\")\n"
   ]
  },
  {
   "cell_type": "code",
   "execution_count": null,
   "metadata": {},
   "outputs": [],
   "source": []
  }
 ],
 "metadata": {
  "kernelspec": {
   "display_name": "Python 3",
   "language": "python",
   "name": "python3"
  },
  "language_info": {
   "codemirror_mode": {
    "name": "ipython",
    "version": 3
   },
   "file_extension": ".py",
   "mimetype": "text/x-python",
   "name": "python",
   "nbconvert_exporter": "python",
   "pygments_lexer": "ipython3",
   "version": "3.12.2"
  }
 },
 "nbformat": 4,
 "nbformat_minor": 2
}
